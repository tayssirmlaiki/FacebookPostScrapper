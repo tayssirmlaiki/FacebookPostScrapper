{
 "cells": [
  {
   "cell_type": "code",
   "execution_count": 1,
   "metadata": {},
   "outputs": [
    {
     "name": "stdout",
     "output_type": "stream",
     "text": [
      "Collecting package metadata (current_repodata.json): ...working... done\n",
      "Solving environment: ...working... done\n",
      "\n",
      "## Package Plan ##\n",
      "\n",
      "  environment location: C:\\Users\\asus\\Anaconda3\n",
      "\n",
      "  added / updated specs:\n",
      "    - pymongo\n",
      "\n",
      "\n",
      "The following packages will be downloaded:\n",
      "\n",
      "    package                    |            build\n",
      "    ---------------------------|-----------------\n",
      "    pymongo-3.12.0             |   py37hd77b12b_0         1.3 MB\n",
      "    ------------------------------------------------------------\n",
      "                                           Total:         1.3 MB\n",
      "\n",
      "The following NEW packages will be INSTALLED:\n",
      "\n",
      "  pymongo            pkgs/main/win-64::pymongo-3.12.0-py37hd77b12b_0\n",
      "\n",
      "\n",
      "\n",
      "Downloading and Extracting Packages\n",
      "\n",
      "pymongo-3.12.0       | 1.3 MB    |            |   0% \n",
      "pymongo-3.12.0       | 1.3 MB    | 1          |   1% \n",
      "pymongo-3.12.0       | 1.3 MB    | 8          |   8% \n",
      "pymongo-3.12.0       | 1.3 MB    | #5         |  15% \n",
      "pymongo-3.12.0       | 1.3 MB    | ##1        |  21% \n",
      "pymongo-3.12.0       | 1.3 MB    | ##8        |  28% \n",
      "pymongo-3.12.0       | 1.3 MB    | ###5       |  36% \n",
      "pymongo-3.12.0       | 1.3 MB    | ####2      |  43% \n",
      "pymongo-3.12.0       | 1.3 MB    | ####8      |  49% \n",
      "pymongo-3.12.0       | 1.3 MB    | #####5     |  56% \n",
      "pymongo-3.12.0       | 1.3 MB    | ######2    |  63% \n",
      "pymongo-3.12.0       | 1.3 MB    | ######9    |  70% \n",
      "pymongo-3.12.0       | 1.3 MB    | #######7   |  77% \n",
      "pymongo-3.12.0       | 1.3 MB    | ########4  |  84% \n",
      "pymongo-3.12.0       | 1.3 MB    | #########1 |  91% \n",
      "pymongo-3.12.0       | 1.3 MB    | #########8 |  98% \n",
      "pymongo-3.12.0       | 1.3 MB    | ########## | 100% \n",
      "Preparing transaction: ...working... done\n",
      "Verifying transaction: ...working... done\n",
      "Executing transaction: ...working... done\n",
      "\n",
      "Note: you may need to restart the kernel to use updated packages.\n"
     ]
    }
   ],
   "source": [
    "conda install pymongo"
   ]
  },
  {
   "cell_type": "code",
   "execution_count": 2,
   "metadata": {},
   "outputs": [],
   "source": [
    "import pymongo\n",
    "import pandas as pd\n",
    "import json"
   ]
  },
  {
   "cell_type": "code",
   "execution_count": 3,
   "metadata": {},
   "outputs": [],
   "source": [
    "client = pymongo.MongoClient(\"mongodb://localhost:27017\")"
   ]
  },
  {
   "cell_type": "code",
   "execution_count": 4,
   "metadata": {},
   "outputs": [],
   "source": [
    "df = pd.read_csv(\"my_posts.csv\")"
   ]
  },
  {
   "cell_type": "code",
   "execution_count": 5,
   "metadata": {},
   "outputs": [
    {
     "data": {
      "text/html": [
       "<div>\n",
       "<style scoped>\n",
       "    .dataframe tbody tr th:only-of-type {\n",
       "        vertical-align: middle;\n",
       "    }\n",
       "\n",
       "    .dataframe tbody tr th {\n",
       "        vertical-align: top;\n",
       "    }\n",
       "\n",
       "    .dataframe thead th {\n",
       "        text-align: right;\n",
       "    }\n",
       "</style>\n",
       "<table border=\"1\" class=\"dataframe\">\n",
       "  <thead>\n",
       "    <tr style=\"text-align: right;\">\n",
       "      <th></th>\n",
       "      <th>Unnamed: 0</th>\n",
       "      <th>published</th>\n",
       "      <th>description</th>\n",
       "      <th>images</th>\n",
       "      <th>post_url</th>\n",
       "      <th>external_links</th>\n",
       "      <th>like_url</th>\n",
       "    </tr>\n",
       "  </thead>\n",
       "  <tbody>\n",
       "    <tr>\n",
       "      <th>0</th>\n",
       "      <td>0</td>\n",
       "      <td>12 min</td>\n",
       "      <td>Prototypes involve three separate but related ...</td>\n",
       "      <td>[]</td>\n",
       "      <td>NaN</td>\n",
       "      <td>[]</td>\n",
       "      <td>NaN</td>\n",
       "    </tr>\n",
       "    <tr>\n",
       "      <th>1</th>\n",
       "      <td>1</td>\n",
       "      <td>54 min</td>\n",
       "      <td>What if we, as developers, could set our web a...</td>\n",
       "      <td>[]</td>\n",
       "      <td>NaN</td>\n",
       "      <td>[]</td>\n",
       "      <td>NaN</td>\n",
       "    </tr>\n",
       "    <tr>\n",
       "      <th>2</th>\n",
       "      <td>2</td>\n",
       "      <td>2 h</td>\n",
       "      <td>In this post, we'll briefly look at object-ori...</td>\n",
       "      <td>[]</td>\n",
       "      <td>NaN</td>\n",
       "      <td>[]</td>\n",
       "      <td>NaN</td>\n",
       "    </tr>\n",
       "    <tr>\n",
       "      <th>3</th>\n",
       "      <td>3</td>\n",
       "      <td>3 h</td>\n",
       "      <td>-Don't use text symbols for graphics -Do use v...</td>\n",
       "      <td>[]</td>\n",
       "      <td>NaN</td>\n",
       "      <td>[]</td>\n",
       "      <td>NaN</td>\n",
       "    </tr>\n",
       "    <tr>\n",
       "      <th>4</th>\n",
       "      <td>4</td>\n",
       "      <td>5 h</td>\n",
       "      <td>I'm still a newbie developer, but have been en...</td>\n",
       "      <td>[]</td>\n",
       "      <td>NaN</td>\n",
       "      <td>[]</td>\n",
       "      <td>NaN</td>\n",
       "    </tr>\n",
       "  </tbody>\n",
       "</table>\n",
       "</div>"
      ],
      "text/plain": [
       "   Unnamed: 0 published                                        description  \\\n",
       "0           0    12 min  Prototypes involve three separate but related ...   \n",
       "1           1    54 min  What if we, as developers, could set our web a...   \n",
       "2           2       2 h  In this post, we'll briefly look at object-ori...   \n",
       "3           3       3 h  -Don't use text symbols for graphics -Do use v...   \n",
       "4           4       5 h  I'm still a newbie developer, but have been en...   \n",
       "\n",
       "  images  post_url external_links  like_url  \n",
       "0     []       NaN             []       NaN  \n",
       "1     []       NaN             []       NaN  \n",
       "2     []       NaN             []       NaN  \n",
       "3     []       NaN             []       NaN  \n",
       "4     []       NaN             []       NaN  "
      ]
     },
     "execution_count": 5,
     "metadata": {},
     "output_type": "execute_result"
    }
   ],
   "source": [
    "df.head()"
   ]
  },
  {
   "cell_type": "code",
   "execution_count": 6,
   "metadata": {},
   "outputs": [
    {
     "data": {
      "text/html": [
       "<div>\n",
       "<style scoped>\n",
       "    .dataframe tbody tr th:only-of-type {\n",
       "        vertical-align: middle;\n",
       "    }\n",
       "\n",
       "    .dataframe tbody tr th {\n",
       "        vertical-align: top;\n",
       "    }\n",
       "\n",
       "    .dataframe thead th {\n",
       "        text-align: right;\n",
       "    }\n",
       "</style>\n",
       "<table border=\"1\" class=\"dataframe\">\n",
       "  <thead>\n",
       "    <tr style=\"text-align: right;\">\n",
       "      <th></th>\n",
       "      <th>Unnamed: 0</th>\n",
       "      <th>published</th>\n",
       "      <th>description</th>\n",
       "      <th>images</th>\n",
       "      <th>post_url</th>\n",
       "      <th>external_links</th>\n",
       "      <th>like_url</th>\n",
       "    </tr>\n",
       "  </thead>\n",
       "  <tbody>\n",
       "    <tr>\n",
       "      <th>7</th>\n",
       "      <td>7</td>\n",
       "      <td>Hier, à 07:38</td>\n",
       "      <td>Plotly cheatsheet</td>\n",
       "      <td>['https://scontent.ftun16-1.fna.fbcdn.net/v/t1...</td>\n",
       "      <td>NaN</td>\n",
       "      <td>[]</td>\n",
       "      <td>NaN</td>\n",
       "    </tr>\n",
       "    <tr>\n",
       "      <th>8</th>\n",
       "      <td>8</td>\n",
       "      <td>14 h</td>\n",
       "      <td>Hi all, I've completed my basic in python and ...</td>\n",
       "      <td>['https://static.xx.fbcdn.net/rsrc.php/v3/yA/r...</td>\n",
       "      <td>NaN</td>\n",
       "      <td>[]</td>\n",
       "      <td>NaN</td>\n",
       "    </tr>\n",
       "    <tr>\n",
       "      <th>9</th>\n",
       "      <td>9</td>\n",
       "      <td>14 h</td>\n",
       "      <td>Can someone please explain what the execution ...</td>\n",
       "      <td>['https://static.xx.fbcdn.net/rsrc.php/v3/yA/r...</td>\n",
       "      <td>NaN</td>\n",
       "      <td>[]</td>\n",
       "      <td>NaN</td>\n",
       "    </tr>\n",
       "    <tr>\n",
       "      <th>10</th>\n",
       "      <td>10</td>\n",
       "      <td>5 septembre, 14:55</td>\n",
       "      <td>NaN</td>\n",
       "      <td>['https://static.xx.fbcdn.net/rsrc.php/v3/yA/r...</td>\n",
       "      <td>NaN</td>\n",
       "      <td>[]</td>\n",
       "      <td>NaN</td>\n",
       "    </tr>\n",
       "    <tr>\n",
       "      <th>11</th>\n",
       "      <td>11</td>\n",
       "      <td>14 h</td>\n",
       "      <td>Python String Methods</td>\n",
       "      <td>['https://scontent.ftun16-1.fna.fbcdn.net/v/t1...</td>\n",
       "      <td>NaN</td>\n",
       "      <td>[]</td>\n",
       "      <td>NaN</td>\n",
       "    </tr>\n",
       "  </tbody>\n",
       "</table>\n",
       "</div>"
      ],
      "text/plain": [
       "    Unnamed: 0           published  \\\n",
       "7            7       Hier, à 07:38   \n",
       "8            8                14 h   \n",
       "9            9                14 h   \n",
       "10          10  5 septembre, 14:55   \n",
       "11          11                14 h   \n",
       "\n",
       "                                          description  \\\n",
       "7                                   Plotly cheatsheet   \n",
       "8   Hi all, I've completed my basic in python and ...   \n",
       "9   Can someone please explain what the execution ...   \n",
       "10                                                NaN   \n",
       "11                              Python String Methods   \n",
       "\n",
       "                                               images  post_url  \\\n",
       "7   ['https://scontent.ftun16-1.fna.fbcdn.net/v/t1...       NaN   \n",
       "8   ['https://static.xx.fbcdn.net/rsrc.php/v3/yA/r...       NaN   \n",
       "9   ['https://static.xx.fbcdn.net/rsrc.php/v3/yA/r...       NaN   \n",
       "10  ['https://static.xx.fbcdn.net/rsrc.php/v3/yA/r...       NaN   \n",
       "11  ['https://scontent.ftun16-1.fna.fbcdn.net/v/t1...       NaN   \n",
       "\n",
       "   external_links  like_url  \n",
       "7              []       NaN  \n",
       "8              []       NaN  \n",
       "9              []       NaN  \n",
       "10             []       NaN  \n",
       "11             []       NaN  "
      ]
     },
     "execution_count": 6,
     "metadata": {},
     "output_type": "execute_result"
    }
   ],
   "source": [
    "df.tail()"
   ]
  },
  {
   "cell_type": "code",
   "execution_count": 7,
   "metadata": {},
   "outputs": [
    {
     "data": {
      "text/plain": [
       "(12, 7)"
      ]
     },
     "execution_count": 7,
     "metadata": {},
     "output_type": "execute_result"
    }
   ],
   "source": [
    "df.shape"
   ]
  },
  {
   "cell_type": "code",
   "execution_count": 8,
   "metadata": {},
   "outputs": [],
   "source": [
    "data = df.to_dict(orient = \"records\")"
   ]
  },
  {
   "cell_type": "code",
   "execution_count": 9,
   "metadata": {},
   "outputs": [
    {
     "data": {
      "text/plain": [
       "[{'Unnamed: 0': 0,\n",
       "  'published': '12 min',\n",
       "  'description': 'Prototypes involve three separate but related accessors, all of which are named with some variation on the word prototype. This unfortunate overlap naturally leads to quite a bit of confusion...\\n #DEVCommunity',\n",
       "  'images': '[]',\n",
       "  'post_url': nan,\n",
       "  'external_links': '[]',\n",
       "  'like_url': nan},\n",
       " {'Unnamed: 0': 1,\n",
       "  'published': '54 min',\n",
       "  'description': \"What if we, as developers, could set our web application theme based on the device settings and reduce the extra step to switch in our apps? (Spoiler alert: we totally can. Here's how.)\\n #DEVCommunity\",\n",
       "  'images': '[]',\n",
       "  'post_url': nan,\n",
       "  'external_links': '[]',\n",
       "  'like_url': nan},\n",
       " {'Unnamed: 0': 2,\n",
       "  'published': '2 h',\n",
       "  'description': \"In this post, we'll briefly look at object-oriented programming concepts in JavaScript like classes and objects.\\n #DEVCommunity\",\n",
       "  'images': '[]',\n",
       "  'post_url': nan,\n",
       "  'external_links': '[]',\n",
       "  'like_url': nan},\n",
       " {'Unnamed: 0': 3,\n",
       "  'published': '3 h',\n",
       "  'description': \"-Don't use text symbols for graphics -Do use verbs in aria-labels  -Do use button elements for show/hide password -Do show the correct virtual keyboard when you ask to enter a code\\n #DEVCommunity\",\n",
       "  'images': '[]',\n",
       "  'post_url': nan,\n",
       "  'external_links': '[]',\n",
       "  'like_url': nan},\n",
       " {'Unnamed: 0': 4,\n",
       "  'published': '5 h',\n",
       "  'description': \"I'm still a newbie developer, but have been enjoying my foray into open source so far. I hope my experience helps other new devs get into the open source world as well. \\n #DEVCommunity\",\n",
       "  'images': '[]',\n",
       "  'post_url': nan,\n",
       "  'external_links': '[]',\n",
       "  'like_url': nan},\n",
       " {'Unnamed: 0': 5,\n",
       "  'published': 'Hier, à 07:39',\n",
       "  'description': 'Hi recently rebooted my computer and reinstalled Pycharm and now no matter what I do the sdk is always invalid would love some help.',\n",
       "  'images': '[]',\n",
       "  'post_url': nan,\n",
       "  'external_links': '[]',\n",
       "  'like_url': nan},\n",
       " {'Unnamed: 0': 6,\n",
       "  'published': 'Hier, à 14:09',\n",
       "  'description': 'please explain the loop \"for i in range\"',\n",
       "  'images': \"['https://static.xx.fbcdn.net/rsrc.php/v3/yA/r/32b0DzrfCKe.png']\",\n",
       "  'post_url': nan,\n",
       "  'external_links': '[]',\n",
       "  'like_url': nan},\n",
       " {'Unnamed: 0': 7,\n",
       "  'published': 'Hier, à 07:38',\n",
       "  'description': 'Plotly cheatsheet',\n",
       "  'images': \"['https://scontent.ftun16-1.fna.fbcdn.net/v/t1.6435-9/cp0/e15/q65/c0.15.176.85a/p130x130/240928067_330328785449058_7088555044233344586_n.jpg?_nc_cat=106&ccb=1-5&_nc_sid=07e735&_nc_ohc=Q-cuzddNfGUAX8R9Ikw&_nc_ht=scontent.ftun16-1.fna&oh=b7e5f6c44a85872b0d8f8bea24426861&oe=615F59AE', 'https://scontent.ftun16-1.fna.fbcdn.net/v/t1.6435-9/cp0/e15/q65/c0.14.177.87a/p130x130/240867687_330328842115719_3478796797414175372_n.jpg?_nc_cat=102&ccb=1-5&_nc_sid=07e735&_nc_ohc=5A8JgUNJo4kAX_pRPSP&_nc_ht=scontent.ftun16-1.fna&oh=b1855d40bce178f8cfdc5963243f2fb0&oe=615C830B', 'https://static.xx.fbcdn.net/rsrc.php/v3/yA/r/32b0DzrfCKe.png']\",\n",
       "  'post_url': nan,\n",
       "  'external_links': '[]',\n",
       "  'like_url': nan},\n",
       " {'Unnamed: 0': 8,\n",
       "  'published': '14 h',\n",
       "  'description': \"Hi all, I've completed my basic in python and my primary goal is to build a chat bot what procedure or roadmap should I follow for me to be able to achieve my task\",\n",
       "  'images': \"['https://static.xx.fbcdn.net/rsrc.php/v3/yA/r/32b0DzrfCKe.png']\",\n",
       "  'post_url': nan,\n",
       "  'external_links': '[]',\n",
       "  'like_url': nan},\n",
       " {'Unnamed: 0': 9,\n",
       "  'published': '14 h',\n",
       "  'description': \"Can someone please explain what the execution process is doing in this program, please? (Yes, I've read the docs) my_list = [10, 1, 8, 3, 5] total = 0\\n for i in range(len(my_list)):     total += my_list[i]\\n print(total) #output is 27 #end program\\n So, i is the elements in the range. But how does the program work out what the range is from len? OK, so len of my+list is 5, but how does the program use len to add up all the elements and output 27? Thanks!\",\n",
       "  'images': \"['https://static.xx.fbcdn.net/rsrc.php/v3/yA/r/32b0DzrfCKe.png']\",\n",
       "  'post_url': nan,\n",
       "  'external_links': '[]',\n",
       "  'like_url': nan},\n",
       " {'Unnamed: 0': 10,\n",
       "  'published': '5 septembre, 14:55',\n",
       "  'description': nan,\n",
       "  'images': \"['https://static.xx.fbcdn.net/rsrc.php/v3/yA/r/32b0DzrfCKe.png']\",\n",
       "  'post_url': nan,\n",
       "  'external_links': '[]',\n",
       "  'like_url': nan},\n",
       " {'Unnamed: 0': 11,\n",
       "  'published': '14 h',\n",
       "  'description': 'Python String Methods',\n",
       "  'images': \"['https://scontent.ftun16-1.fna.fbcdn.net/v/t1.6435-9/cp0/e15/q65/s403x403/240887662_180497257519811_74761595749608561_n.jpg?_nc_cat=103&ccb=1-5&_nc_sid=110474&_nc_ohc=wrtYTWlmrJgAX8XuSLp&_nc_ht=scontent.ftun16-1.fna&oh=a66489ee9f5b940db3a31a3b41a922e7&oe=615BA274', 'https://static.xx.fbcdn.net/rsrc.php/v3/yA/r/32b0DzrfCKe.png']\",\n",
       "  'post_url': nan,\n",
       "  'external_links': '[]',\n",
       "  'like_url': nan}]"
      ]
     },
     "execution_count": 9,
     "metadata": {},
     "output_type": "execute_result"
    }
   ],
   "source": [
    "data"
   ]
  },
  {
   "cell_type": "code",
   "execution_count": 10,
   "metadata": {},
   "outputs": [],
   "source": [
    "db = client[\"WebScraping\"]"
   ]
  },
  {
   "cell_type": "code",
   "execution_count": 11,
   "metadata": {},
   "outputs": [
    {
     "name": "stdout",
     "output_type": "stream",
     "text": [
      "Database(MongoClient(host=['localhost:27017'], document_class=dict, tz_aware=False, connect=True), 'WebScraping')\n"
     ]
    }
   ],
   "source": [
    "print(db)"
   ]
  },
  {
   "cell_type": "code",
   "execution_count": 12,
   "metadata": {},
   "outputs": [
    {
     "data": {
      "text/plain": [
       "<pymongo.results.InsertManyResult at 0x1bac6613a88>"
      ]
     },
     "execution_count": 12,
     "metadata": {},
     "output_type": "execute_result"
    }
   ],
   "source": [
    "db.facebook.insert_many(data)"
   ]
  },
  {
   "cell_type": "code",
   "execution_count": null,
   "metadata": {},
   "outputs": [],
   "source": []
  }
 ],
 "metadata": {
  "kernelspec": {
   "display_name": "Python 3",
   "language": "python",
   "name": "python3"
  },
  "language_info": {
   "codemirror_mode": {
    "name": "ipython",
    "version": 3
   },
   "file_extension": ".py",
   "mimetype": "text/x-python",
   "name": "python",
   "nbconvert_exporter": "python",
   "pygments_lexer": "ipython3",
   "version": "3.7.4"
  }
 },
 "nbformat": 4,
 "nbformat_minor": 2
}
